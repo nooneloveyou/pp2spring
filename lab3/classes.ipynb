{
 "cells": [
  {
   "cell_type": "code",
   "execution_count": 1,
   "id": "51023d09-5f43-4c79-91d6-73f6d2ce6464",
   "metadata": {},
   "outputs": [
    {
     "name": "stdin",
     "output_type": "stream",
     "text": [
      "Enter a string:  GgG aaa zz\n"
     ]
    },
    {
     "name": "stdout",
     "output_type": "stream",
     "text": [
      "GGG AAA ZZ\n"
     ]
    }
   ],
   "source": [
    "class StringHandler:\n",
    "    def __init__(self):\n",
    "        self.s = \"\" \n",
    "\n",
    "    def getString(self):\n",
    "        self.s = input(\"Enter a string: \")  \n",
    "\n",
    "    def printString(self):\n",
    "        print(self.s.upper()) \n",
    "\n",
    "# Пример использования:\n",
    "obj = StringHandler()\n",
    "obj.getString() \n",
    "obj.printString() \n"
   ]
  },
  {
   "cell_type": "code",
   "execution_count": 2,
   "id": "9db72ae8-4a0c-4050-9191-468b3ce3d0c8",
   "metadata": {},
   "outputs": [
    {
     "name": "stdout",
     "output_type": "stream",
     "text": [
      "25\n"
     ]
    }
   ],
   "source": [
    "class Shape:\n",
    "    def area(self):\n",
    "        return 0  \n",
    "\n",
    "class Square(Shape):\n",
    "    def __init__(self, length):\n",
    "        self.length = length  \n",
    "\n",
    "    def area(self):\n",
    "        return self.length ** 2  \n",
    "\n",
    "# Пример использования:\n",
    "square = Square(5)\n",
    "print(square.area())  \n"
   ]
  },
  {
   "cell_type": "code",
   "execution_count": 3,
   "id": "2d1e4e73-aeab-48a6-97ea-4b0a921f0f01",
   "metadata": {},
   "outputs": [
    {
     "name": "stdout",
     "output_type": "stream",
     "text": [
      "24\n"
     ]
    }
   ],
   "source": [
    "class Rectangle(Shape):\n",
    "    def __init__(self, length, width):\n",
    "        self.length = length\n",
    "        self.width = width\n",
    "\n",
    "    def area(self):\n",
    "        return self.length * self.width  \n",
    "\n",
    "\n",
    "rectangle = Rectangle(4, 6)\n",
    "print(rectangle.area())  \n"
   ]
  },
  {
   "cell_type": "code",
   "execution_count": 4,
   "id": "2715842a-6678-4e87-83ce-698cffe75c2a",
   "metadata": {},
   "outputs": [
    {
     "name": "stdout",
     "output_type": "stream",
     "text": [
      "Point(1, 2)\n",
      "Point(4, 6)\n",
      "5.0\n"
     ]
    }
   ],
   "source": [
    "import math \n",
    "\n",
    "class Point:\n",
    "    def __init__(self, x, y):\n",
    "        self.x = x\n",
    "        self.y = y\n",
    "\n",
    "    def show(self):\n",
    "        print(f\"Point({self.x}, {self.y})\")  \n",
    "\n",
    "    def move(self, new_x, new_y):\n",
    "        self.x = new_x\n",
    "        self.y = new_y  \n",
    "\n",
    "    def dist(self, other_point):\n",
    "        return math.sqrt((self.x - other_point.x) ** 2 + (self.y - other_point.y) ** 2)  \n",
    "\n",
    "\n",
    "p1 = Point(1, 2)\n",
    "p2 = Point(4, 6)\n",
    "p1.show()  \n",
    "p2.show()  \n",
    "print(p1.dist(p2)) \n"
   ]
  },
  {
   "cell_type": "code",
   "execution_count": null,
   "id": "c74ed8b9-ef47-4d6c-88f2-928e04bc8cf8",
   "metadata": {},
   "outputs": [],
   "source": []
  }
 ],
 "metadata": {
  "kernelspec": {
   "display_name": "Python 3 (ipykernel)",
   "language": "python",
   "name": "python3"
  },
  "language_info": {
   "codemirror_mode": {
    "name": "ipython",
    "version": 3
   },
   "file_extension": ".py",
   "mimetype": "text/x-python",
   "name": "python",
   "nbconvert_exporter": "python",
   "pygments_lexer": "ipython3",
   "version": "3.12.7"
  }
 },
 "nbformat": 4,
 "nbformat_minor": 5
}
