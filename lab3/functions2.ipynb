{
 "cells": [
  {
   "cell_type": "code",
   "execution_count": 3,
   "id": "b9f96877-d6ac-41a3-b668-0f7622bfe8e3",
   "metadata": {},
   "outputs": [],
   "source": [
    "\n",
    "def is_imdb_above_5_5(movie):\n",
    "    return movie[\"imdb\"] > 5.5\n",
    "\n",
    "def movies_above_5_5(movies):\n",
    "    return [movie for movie in movies if is_imdb_above_5_5(movie)]\n",
    "\n",
    "def movies_by_category(movies, category):\n",
    "    return [movie for movie in movies if movie[\"category\"] == category]\n",
    "\n",
    "def average_imdb_score(movies):\n",
    "    if not movies:  \n",
    "        return 0\n",
    "    total_score = sum(movie[\"imdb\"] for movie in movies)\n",
    "    return total_score / len(movies)\n",
    "\n",
    "def average_imdb_by_category(movies, category):\n",
    "    category_movies = movies_by_category(movies, category)\n",
    "    return average_imdb_score(category_movies)\n",
    "\n"
   ]
  },
  {
   "cell_type": "code",
   "execution_count": 5,
   "id": "60e97201-1d07-400c-bda7-d7c441c5b55b",
   "metadata": {},
   "outputs": [
    {
     "name": "stdout",
     "output_type": "stream",
     "text": [
      "Is IMDB score of 'Usual Suspects' above 5.5? True\n",
      "\n",
      "Movies with IMDB score above 5.5:\n",
      "Usual Suspects - IMDB: 7.0\n",
      "Hitman - IMDB: 6.3\n",
      "Dark Knight - IMDB: 9.0\n",
      "The Help - IMDB: 8.0\n",
      "The Choice - IMDB: 6.2\n",
      "Colonia - IMDB: 7.4\n",
      "Love - IMDB: 6.0\n",
      "Joking muck - IMDB: 7.2\n",
      "What is the name - IMDB: 9.2\n",
      "Detective - IMDB: 7.0\n",
      "We Two - IMDB: 7.2\n",
      "\n",
      "Movies under category 'Romance':\n",
      "The Choice - IMDB: 6.2\n",
      "Colonia - IMDB: 7.4\n",
      "Love - IMDB: 6.0\n",
      "Bride Wars - IMDB: 5.4\n",
      "We Two - IMDB: 7.2\n",
      "\n",
      "Average IMDB score of all movies: 6.486666666666666\n",
      "\n",
      "Average IMDB score for 'Romance' category: 6.44\n"
     ]
    }
   ],
   "source": [
    "\n",
    "movies = [\n",
    "    {\"name\": \"Usual Suspects\", \"imdb\": 7.0, \"category\": \"Thriller\"},\n",
    "    {\"name\": \"Hitman\", \"imdb\": 6.3, \"category\": \"Action\"},\n",
    "    {\"name\": \"Dark Knight\", \"imdb\": 9.0, \"category\": \"Adventure\"},\n",
    "    {\"name\": \"The Help\", \"imdb\": 8.0, \"category\": \"Drama\"},\n",
    "    {\"name\": \"The Choice\", \"imdb\": 6.2, \"category\": \"Romance\"},\n",
    "    {\"name\": \"Colonia\", \"imdb\": 7.4, \"category\": \"Romance\"},\n",
    "    {\"name\": \"Love\", \"imdb\": 6.0, \"category\": \"Romance\"},\n",
    "    {\"name\": \"Bride Wars\", \"imdb\": 5.4, \"category\": \"Romance\"},\n",
    "    {\"name\": \"AlphaJet\", \"imdb\": 3.2, \"category\": \"War\"},\n",
    "    {\"name\": \"Ringing Crime\", \"imdb\": 4.0, \"category\": \"Crime\"},\n",
    "    {\"name\": \"Joking muck\", \"imdb\": 7.2, \"category\": \"Comedy\"},\n",
    "    {\"name\": \"What is the name\", \"imdb\": 9.2, \"category\": \"Suspense\"},\n",
    "    {\"name\": \"Detective\", \"imdb\": 7.0, \"category\": \"Suspense\"},\n",
    "    {\"name\": \"Exam\", \"imdb\": 4.2, \"category\": \"Thriller\"},\n",
    "    {\"name\": \"We Two\", \"imdb\": 7.2, \"category\": \"Romance\"}\n",
    "]\n",
    "\n",
    "\n",
    "\n",
    "\n",
    "print(\"Is IMDB score of 'Usual Suspects' above 5.5?\", is_imdb_above_5_5(movies[0]))  \n",
    "\n",
    "print(\"\\nMovies with IMDB score above 5.5:\")\n",
    "for movie in movies_above_5_5(movies):\n",
    "    print(f\"{movie['name']} - IMDB: {movie['imdb']}\")\n",
    "category = \"Romance\"\n",
    "print(f\"\\nMovies under category '{category}':\")\n",
    "for movie in movies_by_category(movies, category):\n",
    "    print(f\"{movie['name']} - IMDB: {movie['imdb']}\")\n",
    "print(\"\\nAverage IMDB score of all movies:\", average_imdb_score(movies))\n",
    "\n",
    "print(f\"\\nAverage IMDB score for '{category}' category:\", average_imdb_by_category(movies, category))"
   ]
  },
  {
   "cell_type": "code",
   "execution_count": null,
   "id": "7cf89c04-00f5-4ba2-b4d6-eed3f940d6d0",
   "metadata": {},
   "outputs": [],
   "source": []
  }
 ],
 "metadata": {
  "kernelspec": {
   "display_name": "Python 3 (ipykernel)",
   "language": "python",
   "name": "python3"
  },
  "language_info": {
   "codemirror_mode": {
    "name": "ipython",
    "version": 3
   },
   "file_extension": ".py",
   "mimetype": "text/x-python",
   "name": "python",
   "nbconvert_exporter": "python",
   "pygments_lexer": "ipython3",
   "version": "3.12.7"
  }
 },
 "nbformat": 4,
 "nbformat_minor": 5
}
