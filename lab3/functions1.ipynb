{
 "cells": [
  {
   "cell_type": "code",
   "execution_count": 9,
   "id": "7a99994a-e001-468b-8af3-9311f7b74e32",
   "metadata": {},
   "outputs": [
    {
     "name": "stdin",
     "output_type": "stream",
     "text": [
      "weight in grams:  4\n"
     ]
    },
    {
     "name": "stdout",
     "output_type": "stream",
     "text": [
      "weight in ounces: 113.3980924\n"
     ]
    }
   ],
   "source": [
    "def func(grams):\n",
    "    ounces = 28.3495231 * grams\n",
    "    return ounces \n",
    "grams = float(input(\"weight in grams: \"))\n",
    "ounces = func(grams)\n",
    "print(\"weight in ounces: \" f\"{ounces}\")"
   ]
  },
  {
   "cell_type": "code",
   "execution_count": 14,
   "id": "6b601240-988e-4ec2-ba45-19b100388cd5",
   "metadata": {},
   "outputs": [
    {
     "name": "stdin",
     "output_type": "stream",
     "text": [
      "temp:  122\n"
     ]
    },
    {
     "name": "stdout",
     "output_type": "stream",
     "text": [
      "50.0\n"
     ]
    }
   ],
   "source": [
    "def func(F):\n",
    "    C = (5 / 9) * (F - 32) \n",
    "    return C\n",
    "F = float(input(\"temp: \"))\n",
    "cels = func(F)\n",
    "print(cels)"
   ]
  },
  {
   "cell_type": "code",
   "execution_count": 17,
   "id": "60c0d2f8-6207-476d-be56-4a81bbaa3219",
   "metadata": {},
   "outputs": [
    {
     "name": "stdout",
     "output_type": "stream",
     "text": [
      "Chickens: 23, Rabbits: 12\n"
     ]
    }
   ],
   "source": [
    "def solve(numheads, numlegs):\n",
    "    r = (numlegs // 2) - numheads  \n",
    "    c = numheads - r  \n",
    "    return c, r\n",
    "numheads = 35\n",
    "numlegs = 94\n",
    "chickens, rabbits = solve(numheads, numlegs)\n",
    "print(f'Chickens: {chickens}, Rabbits: {rabbits}')"
   ]
  },
  {
   "cell_type": "code",
   "execution_count": 45,
   "id": "ce5e0a77-3538-487e-b6ed-358253090476",
   "metadata": {},
   "outputs": [
    {
     "name": "stdin",
     "output_type": "stream",
     "text": [
      " 5 4 2 \n",
      " 44 \n"
     ]
    },
    {
     "name": "stdout",
     "output_type": "stream",
     "text": [
      "[]\n"
     ]
    }
   ],
   "source": [
    "def is_it_prime(number):\n",
    "    for i in range(2, int(number**0.5) + 1):\n",
    "        if i == 1:\n",
    "            continue\n",
    "        elif number % i == 0:\n",
    "            return False\n",
    "    return True\n",
    "\n",
    "def filter_prime(list : list):\n",
    "    return [int(i) for i in input().split() if is_it_prime(int(i))]\n",
    "\n",
    "\n",
    "print(filter_prime(list = [int (i) for i in input().split()]))"
   ]
  },
  {
   "cell_type": "code",
   "execution_count": 19,
   "id": "f0f4b78f-0771-4c33-a446-6d41a51d3f1e",
   "metadata": {},
   "outputs": [
    {
     "name": "stdout",
     "output_type": "stream",
     "text": [
      "['abc', 'acb', 'bac', 'bca', 'cab', 'cba']\n"
     ]
    }
   ],
   "source": [
    "def PermutationsOfString(text):\n",
    "    for i in range(len(text)):\n",
    "        if len(text) == 1:\n",
    "            return text\n",
    "        \n",
    "    result = []\n",
    "    for i in range(len(text)):\n",
    "        current = text[i]\n",
    "        remaining = text[:i] + text[i+1:]\n",
    "\n",
    "        perms = PermutationsOfString(remaining)\n",
    "\n",
    "        for j in range (len(perms)):\n",
    "            result.append(current + perms[j])\n",
    "        \n",
    "    return result\n",
    "\n",
    "text = \"abc\"\n",
    "print(PermutationsOfString(text))"
   ]
  },
  {
   "cell_type": "code",
   "execution_count": 47,
   "id": "501d30a2-0fbd-454e-afaf-004071736038",
   "metadata": {},
   "outputs": [
    {
     "name": "stdin",
     "output_type": "stream",
     "text": [
      " abc bs s \n"
     ]
    },
    {
     "name": "stdout",
     "output_type": "stream",
     "text": [
      "s bs abc \n"
     ]
    }
   ],
   "source": [
    "def reversed_string(string):\n",
    "    string = string.split()\n",
    "    newstring = ''\n",
    "    for i in string[::-1]:\n",
    "        newstring += i + ' '\n",
    "    return newstring\n",
    "\n",
    "print(reversed_string(input()))\n",
    "    "
   ]
  },
  {
   "cell_type": "code",
   "execution_count": 24,
   "id": "723110c3-ed82-45b3-9b1d-859b5cdb98e5",
   "metadata": {},
   "outputs": [
    {
     "name": "stdin",
     "output_type": "stream",
     "text": [
      "Введите элементы списка через пробел:  1 3 3\n"
     ]
    },
    {
     "name": "stdout",
     "output_type": "stream",
     "text": [
      "True\n"
     ]
    }
   ],
   "source": [
    "def has_33(nums):\n",
    "    for i in range(len(nums) - 1): \n",
    "        if nums[i] == 3 and nums[i + 1] == 3: \n",
    "            return True\n",
    "    return False  \n",
    "\n",
    "user_input = input(\"Введите элементы списка через пробел: \")\n",
    "nums = list(map(int, user_input.split())) \n",
    "\n",
    "print(has_33(nums))"
   ]
  },
  {
   "cell_type": "code",
   "execution_count": 28,
   "id": "e9eb948b-b12d-4ffb-9f57-aef54590c393",
   "metadata": {},
   "outputs": [
    {
     "name": "stdin",
     "output_type": "stream",
     "text": [
      "elements:  3 4 2 0 0 7\n"
     ]
    },
    {
     "name": "stdout",
     "output_type": "stream",
     "text": [
      "True\n"
     ]
    }
   ],
   "source": [
    "def spy_game(nums):\n",
    "    for i in range(len(nums) - 2):\n",
    "        if nums[i:i+3] == [0, 0, 7]:\n",
    "            return True\n",
    "    return False\n",
    "user_input = input(\"elements: \")\n",
    "nums = list(map(int, user_input.split()))\n",
    "print(spy_game(nums))"
   ]
  },
  {
   "cell_type": "code",
   "execution_count": 29,
   "id": "89ec0be5-df60-4003-adbf-a068b6903826",
   "metadata": {},
   "outputs": [
    {
     "data": {
      "text/plain": [
       "267.94666666666666"
      ]
     },
     "execution_count": 29,
     "metadata": {},
     "output_type": "execute_result"
    }
   ],
   "source": [
    "def volume(radius):\n",
    "    return 4/3 * 3.14 * (radius ** 3) \n",
    "volume(4)"
   ]
  },
  {
   "cell_type": "code",
   "execution_count": 32,
   "id": "43da0d7d-2a64-4262-b6e0-b3c097c71283",
   "metadata": {},
   "outputs": [
    {
     "name": "stdout",
     "output_type": "stream",
     "text": [
      "[1, 2, 3, 4, 5]\n"
     ]
    }
   ],
   "source": [
    "def unique(lst):\n",
    "    unique_lst = []\n",
    "    for x in lst:\n",
    "        if x not in unique_lst:\n",
    "            unique_lst.append(x)\n",
    "    return unique_lst\n",
    "print(unique([1, 2, 3, 1, 2, 4, 5]))"
   ]
  },
  {
   "cell_type": "code",
   "execution_count": null,
   "id": "28d35adf-cefc-483f-986f-918537fc35a9",
   "metadata": {},
   "outputs": [],
   "source": [
    "def palindrome(word):\n",
    "    "
   ]
  },
  {
   "cell_type": "code",
   "execution_count": 34,
   "id": "2c10a45a-dc6a-4d8d-8a85-4be1c6b8d1b3",
   "metadata": {},
   "outputs": [
    {
     "name": "stdout",
     "output_type": "stream",
     "text": [
      "****\n",
      "*********\n",
      "*******\n"
     ]
    }
   ],
   "source": [
    "def histogram(lst):\n",
    "    for num in lst:\n",
    "        print(\"*\" * num)\n",
    "histogram([4,9,7])"
   ]
  },
  {
   "cell_type": "code",
   "execution_count": 43,
   "id": "88aa5245-3ac3-4e32-a450-60bcf12c8e44",
   "metadata": {},
   "outputs": [
    {
     "name": "stdin",
     "output_type": "stream",
     "text": [
      "Hello! What is your name?\n",
      " Tair\n"
     ]
    },
    {
     "name": "stdout",
     "output_type": "stream",
     "text": [
      "Well, Tair, I am thinking of a number between 1 and 20.\n",
      "Take a guess.\n",
      "\n"
     ]
    },
    {
     "name": "stdin",
     "output_type": "stream",
     "text": [
      " 4\n"
     ]
    },
    {
     "name": "stdout",
     "output_type": "stream",
     "text": [
      "Your guess is too low.\n"
     ]
    },
    {
     "name": "stdin",
     "output_type": "stream",
     "text": [
      " 5\n"
     ]
    },
    {
     "name": "stdout",
     "output_type": "stream",
     "text": [
      "Your guess is too low.\n"
     ]
    },
    {
     "name": "stdin",
     "output_type": "stream",
     "text": [
      " 8\n"
     ]
    },
    {
     "name": "stdout",
     "output_type": "stream",
     "text": [
      "Your guess is too low.\n"
     ]
    },
    {
     "name": "stdin",
     "output_type": "stream",
     "text": [
      " 10\n"
     ]
    },
    {
     "name": "stdout",
     "output_type": "stream",
     "text": [
      "Your guess is too low.\n"
     ]
    },
    {
     "name": "stdin",
     "output_type": "stream",
     "text": [
      " 16\n"
     ]
    },
    {
     "name": "stdout",
     "output_type": "stream",
     "text": [
      "Your guess is too high.\n"
     ]
    },
    {
     "name": "stdin",
     "output_type": "stream",
     "text": [
      " 15\n"
     ]
    },
    {
     "name": "stdout",
     "output_type": "stream",
     "text": [
      "Your guess is too high.\n"
     ]
    },
    {
     "name": "stdin",
     "output_type": "stream",
     "text": [
      " 14\n"
     ]
    },
    {
     "name": "stdout",
     "output_type": "stream",
     "text": [
      "Your guess is too high.\n"
     ]
    },
    {
     "name": "stdin",
     "output_type": "stream",
     "text": [
      " 13\n"
     ]
    },
    {
     "name": "stdout",
     "output_type": "stream",
     "text": [
      "Your guess is too high.\n"
     ]
    },
    {
     "name": "stdin",
     "output_type": "stream",
     "text": [
      " 12\n"
     ]
    },
    {
     "name": "stdout",
     "output_type": "stream",
     "text": [
      "Good job, Tair! You guessed my number in 9 guesses!\n"
     ]
    }
   ],
   "source": [
    "import random\n",
    "\n",
    "random_number = random.randint(1, 20)  \n",
    "\n",
    "name = input(\"Hello! What is your name?\\n\")  \n",
    "print(\"Well, \" + name + \", I am thinking of a number between 1 and 20.\")\n",
    "print(\"Take a guess.\\n\")\n",
    "\n",
    "tries = 0\n",
    "\n",
    "\n",
    "while True:\n",
    "    guess = int(input())  \n",
    "    tries += 1  \n",
    "\n",
    "    if guess < random_number:\n",
    "        print(\"Your guess is too low.\")\n",
    "    elif guess > random_number:\n",
    "        print(\"Your guess is too high.\")\n",
    "    else:\n",
    "        print(f\"Good job, {name}! You guessed my number in {tries} guesses!\")\n",
    "        break  "
   ]
  },
  {
   "cell_type": "code",
   "execution_count": 44,
   "id": "6a522adc-0380-4f08-b288-53056ec0ea6d",
   "metadata": {},
   "outputs": [
    {
     "ename": "NameError",
     "evalue": "name 'movie' is not defined",
     "output_type": "error",
     "traceback": [
      "\u001b[1;31m---------------------------------------------------------------------------\u001b[0m",
      "\u001b[1;31mNameError\u001b[0m                                 Traceback (most recent call last)",
      "Cell \u001b[1;32mIn[44], line 3\u001b[0m\n\u001b[0;32m      1\u001b[0m \u001b[38;5;28;01mdef\u001b[39;00m \u001b[38;5;21mabove5_5\u001b[39m(movie):\n\u001b[0;32m      2\u001b[0m     \u001b[38;5;28;01mreturn\u001b[39;00m movie[\u001b[38;5;124m\"\u001b[39m\u001b[38;5;124mimdb\u001b[39m\u001b[38;5;124m\"\u001b[39m] \u001b[38;5;241m>\u001b[39m \u001b[38;5;241m5.5\u001b[39m \n\u001b[1;32m----> 3\u001b[0m \u001b[38;5;28mprint\u001b[39m(above5_5(movie))\n",
      "\u001b[1;31mNameError\u001b[0m: name 'movie' is not defined"
     ]
    }
   ],
   "source": []
  },
  {
   "cell_type": "code",
   "execution_count": null,
   "id": "7f08b6f8-75a5-4fba-8b59-729430ab7522",
   "metadata": {},
   "outputs": [],
   "source": []
  }
 ],
 "metadata": {
  "kernelspec": {
   "display_name": "Python 3 (ipykernel)",
   "language": "python",
   "name": "python3"
  },
  "language_info": {
   "codemirror_mode": {
    "name": "ipython",
    "version": 3
   },
   "file_extension": ".py",
   "mimetype": "text/x-python",
   "name": "python",
   "nbconvert_exporter": "python",
   "pygments_lexer": "ipython3",
   "version": "3.12.7"
  }
 },
 "nbformat": 4,
 "nbformat_minor": 5
}
