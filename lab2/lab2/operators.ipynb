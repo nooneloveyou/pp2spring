{
 "cells": [
  {
   "cell_type": "code",
   "execution_count": 3,
   "id": "b7a9006a-d214-4948-876e-636b798cd0dd",
   "metadata": {},
   "outputs": [
    {
     "name": "stdout",
     "output_type": "stream",
     "text": [
      "8\n",
      "2\n"
     ]
    }
   ],
   "source": [
    "x = 5 \n",
    "x += 3 \n",
    "print(x)\n",
    "x -= 6 \n",
    "print(x)"
   ]
  },
  {
   "cell_type": "markdown",
   "id": "8d57093d-1942-4f66-94cc-2ee767c7efa9",
   "metadata": {},
   "source": [
    "Comparison Operators"
   ]
  },
  {
   "cell_type": "code",
   "execution_count": 6,
   "id": "2acec091-f8a0-4106-9607-a7edd84b4922",
   "metadata": {},
   "outputs": [
    {
     "name": "stdout",
     "output_type": "stream",
     "text": [
      "True\n",
      "False\n",
      "True\n",
      "False\n"
     ]
    }
   ],
   "source": [
    "x = 5\n",
    "y = 3\n",
    "print(x >= y)\n",
    "print(x == y)\n",
    "print(x!=y)\n",
    "print(x <= y)"
   ]
  },
  {
   "cell_type": "markdown",
   "id": "b41b4aad-c8c6-481b-8c29-d14fdc6b860b",
   "metadata": {},
   "source": [
    "Bitwise Operators"
   ]
  },
  {
   "cell_type": "code",
   "execution_count": 8,
   "id": "8e7d870d-3da9-4170-9a78-75b975bef51d",
   "metadata": {},
   "outputs": [
    {
     "name": "stdout",
     "output_type": "stream",
     "text": [
      "2\n",
      "7\n",
      "5\n",
      "-4\n",
      "12\n"
     ]
    }
   ],
   "source": [
    "print(6 & 3)\n",
    "print(6 | 3)\n",
    "print(6 ^ 3) \n",
    "print(~3)\n",
    "print(3 << 2)"
   ]
  },
  {
   "cell_type": "code",
   "execution_count": null,
   "id": "0571c9a2-f9a3-41d3-a384-b6f558e9501b",
   "metadata": {},
   "outputs": [],
   "source": []
  }
 ],
 "metadata": {
  "kernelspec": {
   "display_name": "Python 3 (ipykernel)",
   "language": "python",
   "name": "python3"
  },
  "language_info": {
   "codemirror_mode": {
    "name": "ipython",
    "version": 3
   },
   "file_extension": ".py",
   "mimetype": "text/x-python",
   "name": "python",
   "nbconvert_exporter": "python",
   "pygments_lexer": "ipython3",
   "version": "3.12.7"
  }
 },
 "nbformat": 4,
 "nbformat_minor": 5
}
