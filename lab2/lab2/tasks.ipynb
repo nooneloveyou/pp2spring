{
 "cells": [
  {
   "cell_type": "code",
   "execution_count": 1,
   "id": "f85478f7-9955-409f-bde7-0df33e008974",
   "metadata": {},
   "outputs": [
    {
     "name": "stdout",
     "output_type": "stream",
     "text": [
      "1\n",
      "1\n",
      "2\n",
      "3\n"
     ]
    }
   ],
   "source": [
    "a = [1,1,2,3,5,8,13,21,34,55,89]\n",
    "for x in a:\n",
    "    if(x<5):\n",
    "        print(x)"
   ]
  },
  {
   "cell_type": "code",
   "execution_count": 4,
   "id": "305b59be-cb37-445e-b0a1-e3491a944b48",
   "metadata": {},
   "outputs": [
    {
     "name": "stdout",
     "output_type": "stream",
     "text": [
      "[1, 2, 3, 5, 8, 13]\n"
     ]
    }
   ],
   "source": [
    "a = [1,1,2,3,5,8,13,21,34,55,89]\n",
    "b = [1,2,3,4,5,6,7,8,9,10,11,12,13]\n",
    "c = list(set(a) & set(b))\n",
    "print(c)"
   ]
  },
  {
   "cell_type": "code",
   "execution_count": 8,
   "id": "caaa4b12-03a0-4487-b787-d8df39f5d05c",
   "metadata": {},
   "outputs": [
    {
     "name": "stdout",
     "output_type": "stream",
     "text": [
      "Сортировка по ключам (возрастающий порядок): {'brand': 'Ford', 'model': 'mustang', 'year': '1964'}\n",
      "Сортировка по ключам (убывающий порядок): {'year': '1964', 'model': 'mustang', 'brand': 'Ford'}\n"
     ]
    }
   ],
   "source": [
    "thisdict = {\n",
    "    \"brand\": \"Ford\",\n",
    "    \"model\": \"mustang\",\n",
    "    \"year\": \"1964\"\n",
    "}\n",
    "\n",
    "sorted_dict = {k: thisdict[k] for k in sorted(thisdict)}\n",
    "print(\"Сортировка по ключам (возрастающий порядок):\", sorted_dict)\n",
    "\n",
    "sorted_dict_reverse = {k: thisdict[k] for k in sorted(thisdict, reverse=True)}\n",
    "print(\"Сортировка по ключам (убывающий порядок):\", sorted_dict_reverse)"
   ]
  },
  {
   "cell_type": "code",
   "execution_count": 12,
   "id": "322cdf2a-8713-4371-bd9e-b52e6985e29b",
   "metadata": {},
   "outputs": [
    {
     "name": "stdout",
     "output_type": "stream",
     "text": [
      "{'brand': ['Ford', 'Tesla'], 'model': ['mustang', 'Model 3'], 'year': ['1964', '2022']}\n"
     ]
    }
   ],
   "source": [
    "thisdict = {\n",
    "    \"brand\": \"Ford\",\n",
    "    \"model\": \"mustang\",\n",
    "    \"year\": \"1964\"\n",
    "}\n",
    "car_dict = {\n",
    "    \"brand\": \"Tesla\",\n",
    "    \"model\": \"Model 3\",\n",
    "    \"year\": \"2022\"\n",
    "}\n",
    "merged_dict = {\n",
    "    \"brand\": [thisdict[\"brand\"], car_dict[\"brand\"]],\n",
    "    \"model\": [thisdict[\"model\"], car_dict[\"model\"]],\n",
    "    \"year\": [thisdict[\"year\"], car_dict[\"year\"]]\n",
    "}\n",
    "print(merged_dict)"
   ]
  },
  {
   "cell_type": "code",
   "execution_count": null,
   "id": "8263b335-d65c-4c37-860f-c278d37fc4ae",
   "metadata": {},
   "outputs": [],
   "source": [
    "my_dict = {'a':500, 'b':5874,'c':560,'d':400,'e':5874,'f':20}\n"
   ]
  },
  {
   "cell_type": "code",
   "execution_count": 22,
   "id": "99628b3b-66a1-4302-94ba-e184e646785e",
   "metadata": {},
   "outputs": [
    {
     "name": "stdin",
     "output_type": "stream",
     "text": [
      "Введите числа, разделенные пробелами:  1 2 3\n"
     ]
    },
    {
     "name": "stdout",
     "output_type": "stream",
     "text": [
      "List: ['1', '2', '3']\n",
      "Tuple: ('1', '2', '3')\n"
     ]
    }
   ],
   "source": [
    "\n",
    "x = input(\"Введите числа, разделенные пробелами: \")\n",
    "\n",
    "elements = x.split()\n",
    "\n",
    "a = list(elements)\n",
    "print(\"List:\", a)\n",
    "\n",
    "b = tuple(elements)\n",
    "print(\"Tuple:\", b)"
   ]
  },
  {
   "cell_type": "code",
   "execution_count": 24,
   "id": "b5ac8e14-79b6-4016-901b-2124c8fc68c7",
   "metadata": {},
   "outputs": [
    {
     "name": "stdout",
     "output_type": "stream",
     "text": [
      "1\n",
      "5\n"
     ]
    }
   ],
   "source": [
    "listt = [1, 2, 3, 4, 5]\n",
    "print(listt[0])  \n",
    "print(listt[-1])"
   ]
  },
  {
   "cell_type": "code",
   "execution_count": null,
   "id": "3c72f783-d121-4f96-9adf-80309aa335f4",
   "metadata": {},
   "outputs": [],
   "source": []
  }
 ],
 "metadata": {
  "kernelspec": {
   "display_name": "Python 3 (ipykernel)",
   "language": "python",
   "name": "python3"
  },
  "language_info": {
   "codemirror_mode": {
    "name": "ipython",
    "version": 3
   },
   "file_extension": ".py",
   "mimetype": "text/x-python",
   "name": "python",
   "nbconvert_exporter": "python",
   "pygments_lexer": "ipython3",
   "version": "3.12.7"
  }
 },
 "nbformat": 4,
 "nbformat_minor": 5
}
